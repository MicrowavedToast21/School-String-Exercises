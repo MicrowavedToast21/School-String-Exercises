{
 "cells": [
  {
   "cell_type": "code",
   "execution_count": 2,
   "id": "a7984b98",
   "metadata": {},
   "outputs": [
    {
     "name": "stdout",
     "output_type": "stream",
     "text": [
      "World! Hello\n"
     ]
    }
   ],
   "source": [
    "string = \"Hello World!\" \n",
    "ls = string.split(\" \") #Splits both words in the string\n",
    "ls[0], ls[1] = ls[1], ls[0] #Swaps the indexes of the list. The indexes are the individual words.\n",
    "swappedWords = \" \".join(ls) #Joins both words with space\n",
    "print(swappedWords)"
   ]
  },
  {
   "cell_type": "code",
   "execution_count": 30,
   "id": "68ef5842",
   "metadata": {},
   "outputs": [
    {
     "name": "stdout",
     "output_type": "stream",
     "text": [
      "The Word count is:  9\n"
     ]
    }
   ],
   "source": [
    "countOfWords = len(\"The quick brown fox jumps over the lazy dog\".split())\n",
    "print(\"The Word count is: \", countOfWords)"
   ]
  },
  {
   "cell_type": "code",
   "execution_count": 1,
   "id": "c9d4cacc",
   "metadata": {},
   "outputs": [
    {
     "name": "stdout",
     "output_type": "stream",
     "text": [
      "Enter a date in the format dd/mm/yyyy: 4/5/1996\n",
      "Day is: 4, month is: 5, year is: 1996\n"
     ]
    }
   ],
   "source": [
    "from datetime import datetime\n",
    "\n",
    "date_string = input(\"Enter a date in the format dd/mm/yyyy: \")\n",
    "date_object = datetime.strptime(date_string, \"%d/%m/%Y\")\n",
    "\n",
    "day = date_object.day\n",
    "month = date_object.month\n",
    "year = date_object.year\n",
    "print(f\"Day is: {day}, month is: {month}, year is: {year}\")"
   ]
  },
  {
   "cell_type": "code",
   "execution_count": 79,
   "id": "a29ba6ad",
   "metadata": {},
   "outputs": [
    {
     "data": {
      "text/plain": [
       "'lololo'"
      ]
     },
     "execution_count": 79,
     "metadata": {},
     "output_type": "execute_result"
    }
   ],
   "source": [
    "def extra_end(str):\n",
    "    return str[-2:]*3\n",
    "extra_end(\"Hello\")"
   ]
  },
  {
   "cell_type": "code",
   "execution_count": 82,
   "id": "7010e4f4",
   "metadata": {},
   "outputs": [
    {
     "data": {
      "text/plain": [
       "'He'"
      ]
     },
     "execution_count": 82,
     "metadata": {},
     "output_type": "execute_result"
    }
   ],
   "source": [
    "def first_two(str):\n",
    "    if len(str) < 2:\n",
    "        return str\n",
    "    return str[:2]\n",
    "first_two(\"Hello\")"
   ]
  },
  {
   "cell_type": "code",
   "execution_count": 78,
   "id": "b4d7ec3e",
   "metadata": {},
   "outputs": [
    {
     "data": {
      "text/plain": [
       "'lephan'"
      ]
     },
     "execution_count": 78,
     "metadata": {},
     "output_type": "execute_result"
    }
   ],
   "source": [
    "def without_end(str):\n",
    "    return str[1:-1]\n",
    "without_end(\"Hello\")"
   ]
  },
  {
   "cell_type": "code",
   "execution_count": 92,
   "id": "df06848c",
   "metadata": {},
   "outputs": [
    {
     "name": "stdout",
     "output_type": "stream",
     "text": [
      "ellohere\n"
     ]
    }
   ],
   "source": [
    "a = \"Hello\"\n",
    "b = \"There\"\n",
    "print(a[1:] + b[1:])"
   ]
  },
  {
   "cell_type": "code",
   "execution_count": 98,
   "id": "2f35d0a7",
   "metadata": {},
   "outputs": [
    {
     "name": "stdout",
     "output_type": "stream",
     "text": [
      "All \"good\" men should come to the aid of their country\n"
     ]
    }
   ],
   "source": [
    "print(\"All \\\"good\\\" men should come to the aid of their country\")"
   ]
  },
  {
   "cell_type": "code",
   "execution_count": 17,
   "id": "1af65474",
   "metadata": {},
   "outputs": [
    {
     "name": "stdout",
     "output_type": "stream",
     "text": [
      "Hello \n",
      "World\n"
     ]
    }
   ],
   "source": [
    "print(\"Hello \\nWorld\")"
   ]
  },
  {
   "cell_type": "code",
   "execution_count": null,
   "id": "fa5a3663",
   "metadata": {},
   "outputs": [],
   "source": []
  }
 ],
 "metadata": {
  "kernelspec": {
   "display_name": "Python 3 (ipykernel)",
   "language": "python",
   "name": "python3"
  },
  "language_info": {
   "codemirror_mode": {
    "name": "ipython",
    "version": 3
   },
   "file_extension": ".py",
   "mimetype": "text/x-python",
   "name": "python",
   "nbconvert_exporter": "python",
   "pygments_lexer": "ipython3",
   "version": "3.11.5"
  }
 },
 "nbformat": 4,
 "nbformat_minor": 5
}
